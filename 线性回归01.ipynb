{
 "cells": [
  {
   "cell_type": "code",
   "execution_count": 1,
   "metadata": {},
   "outputs": [],
   "source": [
    "import numpy as np\n",
    "import pandas as pd\n",
    "import matplotlib.pyplot as plt\n",
    "from sklearn.linear_model import LinearRegression"
   ]
  },
  {
   "cell_type": "code",
   "execution_count": 2,
   "metadata": {},
   "outputs": [
    {
     "data": {
      "image/png": "[encoded data removed]",
      "text/plain": [
       "<Figure size 432x288 with 1 Axes>"
      ]
     },
     "metadata": {
      "needs_background": "light"
     },
     "output_type": "display_data"
    }
   ],
   "source": [
    "from sklearn.preprocessing import label\n",
    "\n",
    "\n",
    "N = 100\n",
    "X = np.linspace(-5,5,N).reshape(-1,1)\n",
    "y_real = 3*X\n",
    "y = 3*X + (np.random.rand(N).reshape(-1,1)*2 - 1)*2\n",
    "plt.plot(y,label=\"y\")\n",
    "plt.plot(y_real,label=\"y_real\")\n",
    "plt.legend()\n",
    "plt.show()"
   ]
  },
  {
   "cell_type": "code",
   "execution_count": 3,
   "metadata": {},
   "outputs": [
    {
     "name": "stdout",
     "output_type": "stream",
     "text": [
      "(100, 2)\n"
     ]
    }
   ],
   "source": [
    "X_ones = np.ones([N,1])\n",
    "X_with_ones = np.concatenate((X,X_ones),axis = 1)\n",
    "print(X_with_ones.shape)"
   ]
  },
  {
   "cell_type": "code",
   "execution_count": 4,
   "metadata": {},
   "outputs": [
    {
     "data": {
      "text/plain": [
       "array([[ 2.95929329],\n",
       "       [-0.28014456]])"
      ]
     },
     "execution_count": 4,
     "metadata": {},
     "output_type": "execute_result"
    }
   ],
   "source": [
    "Xouter = X_with_ones.T @ X_with_ones # X转置乘X\n",
    "Xouter_inv = np.linalg.inv(Xouter)   #求逆矩阵\n",
    "beta1= Xouter_inv @ X_with_ones.T @ y\n",
    "beta1"
   ]
  },
  {
   "cell_type": "code",
   "execution_count": 5,
   "metadata": {},
   "outputs": [
    {
     "data": {
      "text/plain": [
       "array([[2.95929329]])"
      ]
     },
     "execution_count": 5,
     "metadata": {},
     "output_type": "execute_result"
    }
   ],
   "source": [
    "beta2 = np.linalg.inv(X.T @ X) @ X.T @y\n",
    "beta2"
   ]
  },
  {
   "cell_type": "code",
   "execution_count": 6,
   "metadata": {},
   "outputs": [
    {
     "name": "stdout",
     "output_type": "stream",
     "text": [
      "[[-15.07661099]\n",
      " [-14.77769248]\n",
      " [-14.47877397]\n",
      " [-14.17985545]\n",
      " [-13.88093694]\n",
      " [-13.58201843]\n",
      " [-13.28309991]\n",
      " [-12.9841814 ]\n",
      " [-12.68526288]\n",
      " [-12.38634437]\n",
      " [-12.08742586]\n",
      " [-11.78850734]\n",
      " [-11.48958883]\n",
      " [-11.19067031]\n",
      " [-10.8917518 ]\n",
      " [-10.59283329]\n",
      " [-10.29391477]\n",
      " [ -9.99499626]\n",
      " [ -9.69607775]\n",
      " [ -9.39715923]\n",
      " [ -9.09824072]\n",
      " [ -8.7993222 ]\n",
      " [ -8.50040369]\n",
      " [ -8.20148518]\n",
      " [ -7.90256666]\n",
      " [ -7.60364815]\n",
      " [ -7.30472963]\n",
      " [ -7.00581112]\n",
      " [ -6.70689261]\n",
      " [ -6.40797409]\n",
      " [ -6.10905558]\n",
      " [ -5.81013707]\n",
      " [ -5.51121855]\n",
      " [ -5.21230004]\n",
      " [ -4.91338152]\n",
      " [ -4.61446301]\n",
      " [ -4.3155445 ]\n",
      " [ -4.01662598]\n",
      " [ -3.71770747]\n",
      " [ -3.41878896]\n",
      " [ -3.11987044]\n",
      " [ -2.82095193]\n",
      " [ -2.52203341]\n",
      " [ -2.2231149 ]\n",
      " [ -1.92419639]\n",
      " [ -1.62527787]\n",
      " [ -1.32635936]\n",
      " [ -1.02744084]\n",
      " [ -0.72852233]\n",
      " [ -0.42960382]\n",
      " [ -0.1306853 ]\n",
      " [  0.16823321]\n",
      " [  0.46715172]\n",
      " [  0.76607024]\n",
      " [  1.06498875]\n",
      " [  1.36390727]\n",
      " [  1.66282578]\n",
      " [  1.96174429]\n",
      " [  2.26066281]\n",
      " [  2.55958132]\n",
      " [  2.85849984]\n",
      " [  3.15741835]\n",
      " [  3.45633686]\n",
      " [  3.75525538]\n",
      " [  4.05417389]\n",
      " [  4.3530924 ]\n",
      " [  4.65201092]\n",
      " [  4.95092943]\n",
      " [  5.24984795]\n",
      " [  5.54876646]\n",
      " [  5.84768497]\n",
      " [  6.14660349]\n",
      " [  6.445522  ]\n",
      " [  6.74444051]\n",
      " [  7.04335903]\n",
      " [  7.34227754]\n",
      " [  7.64119606]\n",
      " [  7.94011457]\n",
      " [  8.23903308]\n",
      " [  8.5379516 ]\n",
      " [  8.83687011]\n",
      " [  9.13578863]\n",
      " [  9.43470714]\n",
      " [  9.73362565]\n",
      " [ 10.03254417]\n",
      " [ 10.33146268]\n",
      " [ 10.63038119]\n",
      " [ 10.92929971]\n",
      " [ 11.22821822]\n",
      " [ 11.52713674]\n",
      " [ 11.82605525]\n",
      " [ 12.12497376]\n",
      " [ 12.42389228]\n",
      " [ 12.72281079]\n",
      " [ 13.02172931]\n",
      " [ 13.32064782]\n",
      " [ 13.61956633]\n",
      " [ 13.91848485]\n",
      " [ 14.21740336]\n",
      " [ 14.51632187]]\n",
      "[[-14.79646643]\n",
      " [-14.49754792]\n",
      " [-14.19862941]\n",
      " [-13.89971089]\n",
      " [-13.60079238]\n",
      " [-13.30187387]\n",
      " [-13.00295535]\n",
      " [-12.70403684]\n",
      " [-12.40511832]\n",
      " [-12.10619981]\n",
      " [-11.8072813 ]\n",
      " [-11.50836278]\n",
      " [-11.20944427]\n",
      " [-10.91052575]\n",
      " [-10.61160724]\n",
      " [-10.31268873]\n",
      " [-10.01377021]\n",
      " [ -9.7148517 ]\n",
      " [ -9.41593319]\n",
      " [ -9.11701467]\n",
      " [ -8.81809616]\n",
      " [ -8.51917764]\n",
      " [ -8.22025913]\n",
      " [ -7.92134062]\n",
      " [ -7.6224221 ]\n",
      " [ -7.32350359]\n",
      " [ -7.02458507]\n",
      " [ -6.72566656]\n",
      " [ -6.42674805]\n",
      " [ -6.12782953]\n",
      " [ -5.82891102]\n",
      " [ -5.52999251]\n",
      " [ -5.23107399]\n",
      " [ -4.93215548]\n",
      " [ -4.63323696]\n",
      " [ -4.33431845]\n",
      " [ -4.03539994]\n",
      " [ -3.73648142]\n",
      " [ -3.43756291]\n",
      " [ -3.1386444 ]\n",
      " [ -2.83972588]\n",
      " [ -2.54080737]\n",
      " [ -2.24188885]\n",
      " [ -1.94297034]\n",
      " [ -1.64405183]\n",
      " [ -1.34513331]\n",
      " [ -1.0462148 ]\n",
      " [ -0.74729628]\n",
      " [ -0.44837777]\n",
      " [ -0.14945926]\n",
      " [  0.14945926]\n",
      " [  0.44837777]\n",
      " [  0.74729628]\n",
      " [  1.0462148 ]\n",
      " [  1.34513331]\n",
      " [  1.64405183]\n",
      " [  1.94297034]\n",
      " [  2.24188885]\n",
      " [  2.54080737]\n",
      " [  2.83972588]\n",
      " [  3.1386444 ]\n",
      " [  3.43756291]\n",
      " [  3.73648142]\n",
      " [  4.03539994]\n",
      " [  4.33431845]\n",
      " [  4.63323696]\n",
      " [  4.93215548]\n",
      " [  5.23107399]\n",
      " [  5.52999251]\n",
      " [  5.82891102]\n",
      " [  6.12782953]\n",
      " [  6.42674805]\n",
      " [  6.72566656]\n",
      " [  7.02458507]\n",
      " [  7.32350359]\n",
      " [  7.6224221 ]\n",
      " [  7.92134062]\n",
      " [  8.22025913]\n",
      " [  8.51917764]\n",
      " [  8.81809616]\n",
      " [  9.11701467]\n",
      " [  9.41593319]\n",
      " [  9.7148517 ]\n",
      " [ 10.01377021]\n",
      " [ 10.31268873]\n",
      " [ 10.61160724]\n",
      " [ 10.91052575]\n",
      " [ 11.20944427]\n",
      " [ 11.50836278]\n",
      " [ 11.8072813 ]\n",
      " [ 12.10619981]\n",
      " [ 12.40511832]\n",
      " [ 12.70403684]\n",
      " [ 13.00295535]\n",
      " [ 13.30187387]\n",
      " [ 13.60079238]\n",
      " [ 13.89971089]\n",
      " [ 14.19862941]\n",
      " [ 14.49754792]\n",
      " [ 14.79646643]]\n"
     ]
    }
   ],
   "source": [
    "y1 = X_with_ones @ beta1\n",
    "y2 = X @ beta2\n",
    "print(y1)\n",
    "print(y2)"
   ]
  },
  {
   "cell_type": "code",
   "execution_count": 7,
   "metadata": {},
   "outputs": [
    {
     "data": {
      "image/png": "[encoded data removed]",
      "text/plain": [
       "<Figure size 432x288 with 1 Axes>"
      ]
     },
     "metadata": {
      "needs_background": "light"
     },
     "output_type": "display_data"
    }
   ],
   "source": [
    "plt.plot(y1,label=\"y1\")\n",
    "plt.plot(y2,label=\"y2\")\n",
    "plt.plot(y_real,label=\"y_real\")\n",
    "plt.plot(y,label=\"y\")\n",
    "plt.legend()\n",
    "plt.show()"
   ]
  },
  {
   "cell_type": "code",
   "execution_count": 8,
   "metadata": {},
   "outputs": [],
   "source": [
    "def getrmse(a,b):\n",
    "    return np.linalg.norm(y1-y2)**2/len(y1)"
   ]
  },
  {
   "cell_type": "code",
   "execution_count": 9,
   "metadata": {},
   "outputs": [
    {
     "name": "stdout",
     "output_type": "stream",
     "text": [
      "mse y1-y_real: 0.07848097449341745\n",
      "mse y2-y_real: 0.07848097449341745\n",
      "mse y1-y: 0.07848097449341745\n",
      "mse y2-y: 0.07848097449341745\n"
     ]
    }
   ],
   "source": [
    "print(\"mse y1-y_real:\",getrmse(y1,y_real))\n",
    "print(\"mse y2-y_real:\",getrmse(y2,y_real))\n",
    "print(\"mse y1-y:\",getrmse(y1,y))\n",
    "print(\"mse y2-y:\",getrmse(y2,y))"
   ]
  },
  {
   "cell_type": "code",
   "execution_count": 12,
   "metadata": {},
   "outputs": [],
   "source": [
    "def getmape(a,b):\n",
    "    return np.mean(abs((a-b)/b))*100"
   ]
  },
  {
   "cell_type": "code",
   "execution_count": 13,
   "metadata": {},
   "outputs": [
    {
     "name": "stdout",
     "output_type": "stream",
     "text": [
      "mape y1-y_real: 10.863621678137918 %\n",
      "mape y2-y_real: 1.356890438933183 %\n",
      "mape y1-y: 23.776523654479274 %\n",
      "mape y2-y: 25.24719386264064 %\n"
     ]
    }
   ],
   "source": [
    "print(\"mape y1-y_real:\",getmape(y1,y_real),\"%\")\n",
    "print(\"mape y2-y_real:\",getmape(y2,y_real),\"%\")\n",
    "print(\"mape y1-y:\",getmape(y1,y),\"%\")\n",
    "print(\"mape y2-y:\",getmape(y2,y),\"%\")"
   ]
  },
  {
   "cell_type": "markdown",
   "metadata": {},
   "source": [
    "已完成：\n",
    "    数据生成\n",
    "    线性回归手动实现(Numpy)\n",
    "    线性回归结果展示(图、指标、数据)\n",
    "\n"
   ]
  }
 ],
 "metadata": {
  "kernelspec": {
   "display_name": "Python 3.7.3 ('base')",
   "language": "python",
   "name": "python3"
  },
  "language_info": {
   "codemirror_mode": {
    "name": "ipython",
    "version": 3
   },
   "file_extension": ".py",
   "mimetype": "text/x-python",
   "name": "python",
   "nbconvert_exporter": "python",
   "pygments_lexer": "ipython3",
   "version": "3.7.3"
  },
  "orig_nbformat": 4,
  "vscode": {
   "interpreter": {
    "hash": "88279d2366fe020547cde40dd65aa0e3aa662a6ec1f3ca12d88834876c85e1a6"
   }
  }
 },
 "nbformat": 4,
 "nbformat_minor": 2
}
